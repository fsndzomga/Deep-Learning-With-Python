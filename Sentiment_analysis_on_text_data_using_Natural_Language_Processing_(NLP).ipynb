{
  "nbformat": 4,
  "nbformat_minor": 0,
  "metadata": {
    "colab": {
      "provenance": [],
      "authorship_tag": "ABX9TyN7eDsrpyxZ2R7XnPHwnMzZ",
      "include_colab_link": true
    },
    "kernelspec": {
      "name": "python3",
      "display_name": "Python 3"
    },
    "language_info": {
      "name": "python"
    }
  },
  "cells": [
    {
      "cell_type": "markdown",
      "metadata": {
        "id": "view-in-github",
        "colab_type": "text"
      },
      "source": [
        "<a href=\"https://colab.research.google.com/github/fsndzomga/Deep-Learning-With-Python/blob/main/Sentiment_analysis_on_text_data_using_Natural_Language_Processing_(NLP).ipynb\" target=\"_parent\"><img src=\"https://colab.research.google.com/assets/colab-badge.svg\" alt=\"Open In Colab\"/></a>"
      ]
    },
    {
      "cell_type": "code",
      "execution_count": 1,
      "metadata": {
        "id": "r7riLov_SZVW"
      },
      "outputs": [],
      "source": [
        "import re\n",
        "\n",
        "def clean_text(text):\n",
        "    text = re.sub(r'[^\\w\\s]', '', text)\n",
        "    return text\n"
      ]
    },
    {
      "cell_type": "code",
      "source": [
        "reviews = pd.read_csv('review_data.csv')"
      ],
      "metadata": {
        "id": "fuilOAsihJye"
      },
      "execution_count": null,
      "outputs": []
    }
  ]
}