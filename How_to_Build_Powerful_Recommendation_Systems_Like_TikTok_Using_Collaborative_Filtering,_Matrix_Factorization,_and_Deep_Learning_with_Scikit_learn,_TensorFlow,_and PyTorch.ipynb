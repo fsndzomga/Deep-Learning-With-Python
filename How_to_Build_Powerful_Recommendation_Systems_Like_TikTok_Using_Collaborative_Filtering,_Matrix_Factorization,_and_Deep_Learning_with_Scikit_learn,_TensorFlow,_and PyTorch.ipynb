{
  "nbformat": 4,
  "nbformat_minor": 0,
  "metadata": {
    "colab": {
      "provenance": [],
      "authorship_tag": "ABX9TyOcB4M9lWwuC2wWGjD0hIrE",
      "include_colab_link": true
    },
    "kernelspec": {
      "name": "python3",
      "display_name": "Python 3"
    },
    "language_info": {
      "name": "python"
    }
  },
  "cells": [
    {
      "cell_type": "markdown",
      "metadata": {
        "id": "view-in-github",
        "colab_type": "text"
      },
      "source": [
        "<a href=\"https://colab.research.google.com/github/fsndzomga/Deep-Learning-With-Python/blob/main/How_to_Build_Powerful_Recommendation_Systems_Like_TikTok_Using_Collaborative_Filtering%2C_Matrix_Factorization%2C_and_Deep_Learning_with_Scikit_learn%2C_TensorFlow%2C_and%C2%A0PyTorch.ipynb\" target=\"_parent\"><img src=\"https://colab.research.google.com/assets/colab-badge.svg\" alt=\"Open In Colab\"/></a>"
      ]
    },
    {
      "cell_type": "code",
      "execution_count": 1,
      "metadata": {
        "id": "90CVoX0VUPgr"
      },
      "outputs": [],
      "source": [
        "from sklearn.metrics.pairwise import cosine_similarity\n",
        "from scipy.sparse import csr_matrix\n",
        "\n",
        "# Create a sparse matrix from the dataset\n",
        "data = [\n",
        "    [5, 4, 3],\n",
        "    [4, 5, 4],\n",
        "    [3, 2, 1]\n",
        "]\n",
        "sparse_data = csr_matrix(data)\n",
        "\n",
        "# Compute the cosine similarity between users\n",
        "user_similarity = cosine_similarity(sparse_data)\n",
        "\n",
        "# Recommend movies for a new user based on user similarity\n",
        "new_user = [4, 5, 3]\n",
        "similarity_scores = user_similarity.dot(new_user)\n",
        "recommended_movies = similarity_scores.argsort()[::-1]"
      ]
    },
    {
      "cell_type": "code",
      "source": [
        "user_similarity"
      ],
      "metadata": {
        "colab": {
          "base_uri": "https://localhost:8080/"
        },
        "id": "OV3lf5OHby5n",
        "outputId": "2fd2e246-a260-4193-ee68-563fa61e2e30"
      },
      "execution_count": 3,
      "outputs": [
        {
          "output_type": "execute_result",
          "data": {
            "text/plain": [
              "array([[1.        , 0.97404924, 0.98270763],\n",
              "       [0.97404924, 1.        , 0.92039002],\n",
              "       [0.98270763, 0.92039002, 1.        ]])"
            ]
          },
          "metadata": {},
          "execution_count": 3
        }
      ]
    },
    {
      "cell_type": "code",
      "source": [
        "recommended_movies"
      ],
      "metadata": {
        "colab": {
          "base_uri": "https://localhost:8080/"
        },
        "id": "toQH04gRUrxW",
        "outputId": "cae0cb86-2c40-4115-b15e-59dc21367b98"
      },
      "execution_count": 2,
      "outputs": [
        {
          "output_type": "execute_result",
          "data": {
            "text/plain": [
              "array([0, 1, 2])"
            ]
          },
          "metadata": {},
          "execution_count": 2
        }
      ]
    }
  ]
}