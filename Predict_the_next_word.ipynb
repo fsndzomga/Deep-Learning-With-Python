{
  "nbformat": 4,
  "nbformat_minor": 0,
  "metadata": {
    "colab": {
      "provenance": [],
      "mount_file_id": "1kKN25WfQIRYd2HbwfTYpiu0-jnVByAJi",
      "authorship_tag": "ABX9TyMhH3N12nyOjh7IwYjaKw2D",
      "include_colab_link": true
    },
    "kernelspec": {
      "name": "python3",
      "display_name": "Python 3"
    },
    "language_info": {
      "name": "python"
    },
    "accelerator": "GPU",
    "gpuClass": "standard"
  },
  "cells": [
    {
      "cell_type": "markdown",
      "metadata": {
        "id": "view-in-github",
        "colab_type": "text"
      },
      "source": [
        "<a href=\"https://colab.research.google.com/github/fsndzomga/Deep-Learning-With-Python/blob/main/Predict_the_next_word.ipynb\" target=\"_parent\"><img src=\"https://colab.research.google.com/assets/colab-badge.svg\" alt=\"Open In Colab\"/></a>"
      ]
    },
    {
      "cell_type": "code",
      "execution_count": 1,
      "metadata": {
        "id": "8R9vkaDYheO4"
      },
      "outputs": [],
      "source": [
        "import string\n",
        "import numpy as np\n",
        "import re\n",
        "import random\n",
        "from sklearn.linear_model import SGDRegressor\n",
        "import pickle\n",
        "import sklearn\n",
        "from sklearn.model_selection import train_test_split\n",
        "from sklearn.linear_model import SGDRegressor\n",
        "from sklearn.metrics import mean_squared_error, mean_absolute_error, r2_score\n",
        "from sklearn.preprocessing import StandardScaler\n",
        "from sklearn.preprocessing import OneHotEncoder\n",
        "import json\n",
        "import tensorflow as tf"
      ]
    },
    {
      "cell_type": "code",
      "source": [
        "def preprocessing_text(text_file_path):\n",
        "    # Loading my text file\n",
        "    text = open(text_file_path, \"r\").read().lower()\n",
        "\n",
        "    # Remove numbers using isdigit()\n",
        "    text = ''.join([c for c in text if not c.isdigit()])\n",
        "\n",
        "    # Remove punctuation using str.translate() and string.punctuation\n",
        "    text = text.translate(str.maketrans(\"\", \"\", string.punctuation))\n",
        "\n",
        "    # Replace multiple spaces with single space\n",
        "    text = re.sub(' +', ' ', text)\n",
        "\n",
        "    # Replace line breaks with single space\n",
        "    text = text.replace(\"\\n\", \" \")\n",
        "\n",
        "    return text"
      ],
      "metadata": {
        "id": "oM9WzDuSh8TF"
      },
      "execution_count": 2,
      "outputs": []
    },
    {
      "cell_type": "code",
      "source": [
        "text = preprocessing_text(\"/content/drive/MyDrive/Machine Learning Files/bible.txt\")"
      ],
      "metadata": {
        "id": "Hoj0tik7h9h9"
      },
      "execution_count": 3,
      "outputs": []
    },
    {
      "cell_type": "code",
      "source": [
        "def encoding(text):\n",
        "    # Generate the list of unique words in my text\n",
        "    unique_words = set(text.split(\" \"))\n",
        "\n",
        "    # Get the number of elements in the set\n",
        "    num_elements = len(unique_words)\n",
        "\n",
        "    with open(\"/content/drive/MyDrive/Machine Learning Files/encoding.json\", \"r\") as file:\n",
        "      json_data = file.read()\n",
        "      text_encoding = json.loads(json_data)\n",
        "\n",
        "\n",
        "    # use the text encoding to map the original corpus\n",
        "    encoded_text = [text_encoding[word] for word in text.split(\" \")]\n",
        "\n",
        "    return encoded_text"
      ],
      "metadata": {
        "id": "kdL4nN0RjYIF"
      },
      "execution_count": 4,
      "outputs": []
    },
    {
      "cell_type": "code",
      "source": [
        "encoded_text = encoding(text)"
      ],
      "metadata": {
        "id": "xak6IxIfjagJ"
      },
      "execution_count": 5,
      "outputs": []
    },
    {
      "cell_type": "code",
      "source": [
        "def add_zeros_to_array(array, m):\n",
        "    # Calculate the number of zeros to add\n",
        "    num_zeros = m - len(array)\n",
        "\n",
        "    # Add zeros to the beginning of the array\n",
        "    result = [0] * num_zeros + array\n",
        "\n",
        "    return result\n",
        "\n",
        "def features_targets(encoded_text, num_words):\n",
        "\n",
        "    features = []\n",
        "    targets = []\n",
        "\n",
        "    for i in range(len(encoded_text) - num_words + 1):\n",
        "        subtext = encoded_text[i:i + num_words + 1]\n",
        "        for j in range(1, len(subtext)):\n",
        "            features.append(add_zeros_to_array(subtext[0:j], num_words))\n",
        "            targets.append(subtext[j])\n",
        "\n",
        "    return [features, targets]"
      ],
      "metadata": {
        "id": "DQR-47gTjjJX"
      },
      "execution_count": 6,
      "outputs": []
    },
    {
      "cell_type": "code",
      "source": [
        "features, targets = features_targets(encoded_text, 5)"
      ],
      "metadata": {
        "id": "6jo7-g37jkaz"
      },
      "execution_count": 7,
      "outputs": []
    },
    {
      "cell_type": "code",
      "source": [
        "# Transforming features and targets into numpy arrays\n",
        "\n",
        "features = np.array(features)\n",
        "\n",
        "targets = np.array(targets)"
      ],
      "metadata": {
        "id": "hC-akC32kExk"
      },
      "execution_count": 8,
      "outputs": []
    },
    {
      "cell_type": "code",
      "source": [
        "# Create a StandardScaler object\n",
        "scaler = StandardScaler()\n",
        "\n",
        "# Fit the scaler to the input data\n",
        "scaler.fit(features)\n",
        "\n",
        "# Apply the transformation to the input data\n",
        "features_scaled = scaler.transform(features)"
      ],
      "metadata": {
        "id": "8mBZTuBN4MrL"
      },
      "execution_count": null,
      "outputs": []
    },
    {
      "cell_type": "code",
      "source": [
        "# Create a OneHotEncoder object\n",
        "encoder = OneHotEncoder()\n",
        "\n",
        "# Fit the encoder to the input data\n",
        "encoder.fit(targets.reshape(-1, 1))\n",
        "\n",
        "# Apply the transformation to the input data\n",
        "targets_onehot = encoder.transform(targets.reshape(-1, 1)).toarray()"
      ],
      "metadata": {
        "id": "5tQr-6Q84Lr8"
      },
      "execution_count": null,
      "outputs": []
    },
    {
      "cell_type": "code",
      "source": [],
      "metadata": {
        "id": "Wqz8fN8Y4g4X"
      },
      "execution_count": null,
      "outputs": []
    },
    {
      "cell_type": "code",
      "source": [
        "from sklearn import svm\n",
        "# Training a scikit learn regression model\n",
        "\n",
        "# Split the data into training and test sets\n",
        "X_train, X_test, y_train, y_test = train_test_split(features_scaled, targets_onehot, test_size=0.2, random_state=42)\n",
        "\n",
        "# Train the model\n",
        "model = svm.SVR()\n",
        "model.fit(X_train, y_train)\n",
        "\n",
        "# Make predictions on the test set\n",
        "y_pred = model.predict(X_test)\n",
        "\n",
        "# Evaluate the accuracy of the model using mean squared error\n",
        "mse = mean_squared_error(y_test, y_pred)\n",
        "print(\"Mean Squared Error:\", mse)\n",
        "\n",
        "# Evaluate the accuracy of the model using mean absolute error\n",
        "mae = mean_absolute_error(y_test, y_pred)\n",
        "print(\"Mean Absolute Error:\", mae)\n",
        "\n",
        "# Evaluate the accuracy of the model using R2 score\n",
        "r2 = r2_score(y_test, y_pred)\n",
        "print(\"R2 Score:\", r2)"
      ],
      "metadata": {
        "id": "X8DgeIeckT8K"
      },
      "execution_count": null,
      "outputs": []
    }
  ]
}