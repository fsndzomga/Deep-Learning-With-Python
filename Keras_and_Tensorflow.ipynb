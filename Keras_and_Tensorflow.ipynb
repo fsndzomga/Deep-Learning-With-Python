{
  "nbformat": 4,
  "nbformat_minor": 0,
  "metadata": {
    "colab": {
      "provenance": [],
      "authorship_tag": "ABX9TyPBOBQvkG5b8Y2fwOyIXtWw",
      "include_colab_link": true
    },
    "kernelspec": {
      "name": "python3",
      "display_name": "Python 3"
    },
    "language_info": {
      "name": "python"
    },
    "accelerator": "GPU",
    "gpuClass": "standard"
  },
  "cells": [
    {
      "cell_type": "markdown",
      "metadata": {
        "id": "view-in-github",
        "colab_type": "text"
      },
      "source": [
        "<a href=\"https://colab.research.google.com/github/fsndzomga/Deep-Learning-With-Python/blob/main/Keras_and_Tensorflow.ipynb\" target=\"_parent\"><img src=\"https://colab.research.google.com/assets/colab-badge.svg\" alt=\"Open In Colab\"/></a>"
      ]
    },
    {
      "cell_type": "code",
      "execution_count": 7,
      "metadata": {
        "id": "1mKDlupx_H1d",
        "colab": {
          "base_uri": "https://localhost:8080/"
        },
        "outputId": "9f22659b-a303-46ee-a13b-158e375c4406"
      },
      "outputs": [
        {
          "output_type": "stream",
          "name": "stdout",
          "text": [
            "tf.Tensor(\n",
            "[[1.]\n",
            " [1.]], shape=(2, 1), dtype=float32)\n"
          ]
        }
      ],
      "source": [
        "import tensorflow as tf\n",
        "\n",
        "x = tf.ones(shape= (2,1))\n",
        "\n",
        "print(x)"
      ]
    },
    {
      "cell_type": "code",
      "source": [
        "x = tf.zeros(shape=(2,1))\n",
        "\n",
        "print(x)"
      ],
      "metadata": {
        "colab": {
          "base_uri": "https://localhost:8080/"
        },
        "id": "2mHt-b-7CQBH",
        "outputId": "a3f39881-ec7b-4aef-fe62-32b02a3a75e7"
      },
      "execution_count": 8,
      "outputs": [
        {
          "output_type": "stream",
          "name": "stdout",
          "text": [
            "tf.Tensor(\n",
            "[[0.]\n",
            " [0.]], shape=(2, 1), dtype=float32)\n"
          ]
        }
      ]
    },
    {
      "cell_type": "markdown",
      "source": [
        "Random tensors"
      ],
      "metadata": {
        "id": "p_iDogDvCnJV"
      }
    },
    {
      "cell_type": "code",
      "source": [
        "x = tf.random.normal(shape=(3,1), mean=0.,stddev=1.)\n",
        "print(x)"
      ],
      "metadata": {
        "colab": {
          "base_uri": "https://localhost:8080/"
        },
        "id": "hsznWZt0Co74",
        "outputId": "b9b23212-697f-475e-98b4-e45a7ab04b42"
      },
      "execution_count": 9,
      "outputs": [
        {
          "output_type": "stream",
          "name": "stdout",
          "text": [
            "tf.Tensor(\n",
            "[[-0.16392358]\n",
            " [-0.5322121 ]\n",
            " [ 0.09508478]], shape=(3, 1), dtype=float32)\n"
          ]
        }
      ]
    },
    {
      "cell_type": "code",
      "source": [
        "x = tf.random.uniform(shape=(3,1), minval=0., maxval=1.)\n",
        "print(x)"
      ],
      "metadata": {
        "colab": {
          "base_uri": "https://localhost:8080/"
        },
        "id": "1MMp5fQxC9bp",
        "outputId": "7cc306d3-e1ce-4fbd-cd42-f2bcc932c1cd"
      },
      "execution_count": 10,
      "outputs": [
        {
          "output_type": "stream",
          "name": "stdout",
          "text": [
            "tf.Tensor(\n",
            "[[0.04785907]\n",
            " [0.4471017 ]\n",
            " [0.24998403]], shape=(3, 1), dtype=float32)\n"
          ]
        }
      ]
    },
    {
      "cell_type": "code",
      "source": [
        "v = tf.Variable(initial_value=tf.random.normal(shape=(3,1)))\n",
        "print(v)"
      ],
      "metadata": {
        "colab": {
          "base_uri": "https://localhost:8080/"
        },
        "id": "wLjMwBm_Dpmk",
        "outputId": "a516ea0e-55bf-48ae-d91c-ded4022e9bff"
      },
      "execution_count": 11,
      "outputs": [
        {
          "output_type": "stream",
          "name": "stdout",
          "text": [
            "<tf.Variable 'Variable:0' shape=(3, 1) dtype=float32, numpy=\n",
            "array([[-0.651195  ],\n",
            "       [-0.77502334],\n",
            "       [-0.7278216 ]], dtype=float32)>\n"
          ]
        }
      ]
    },
    {
      "cell_type": "code",
      "source": [
        "v.assign(tf.ones((3,1)))"
      ],
      "metadata": {
        "colab": {
          "base_uri": "https://localhost:8080/"
        },
        "id": "5pP16jH4EeqM",
        "outputId": "e9fc2807-5cbf-4197-9789-613615c5c036"
      },
      "execution_count": 12,
      "outputs": [
        {
          "output_type": "execute_result",
          "data": {
            "text/plain": [
              "<tf.Variable 'UnreadVariable' shape=(3, 1) dtype=float32, numpy=\n",
              "array([[1.],\n",
              "       [1.],\n",
              "       [1.]], dtype=float32)>"
            ]
          },
          "metadata": {},
          "execution_count": 12
        }
      ]
    },
    {
      "cell_type": "code",
      "source": [
        "v[0,0].assign(3.)"
      ],
      "metadata": {
        "colab": {
          "base_uri": "https://localhost:8080/"
        },
        "id": "lYXKWDTwVd9u",
        "outputId": "bdc3a89a-a172-41b6-8b25-702d1f816342"
      },
      "execution_count": 13,
      "outputs": [
        {
          "output_type": "execute_result",
          "data": {
            "text/plain": [
              "<tf.Variable 'UnreadVariable' shape=(3, 1) dtype=float32, numpy=\n",
              "array([[3.],\n",
              "       [1.],\n",
              "       [1.]], dtype=float32)>"
            ]
          },
          "metadata": {},
          "execution_count": 13
        }
      ]
    },
    {
      "cell_type": "code",
      "source": [
        "v.assign_add(tf.ones((3,1)))"
      ],
      "metadata": {
        "colab": {
          "base_uri": "https://localhost:8080/"
        },
        "id": "0ESfannc5qym",
        "outputId": "5f67676f-02bf-41f3-aad0-3373d5d484eb"
      },
      "execution_count": 14,
      "outputs": [
        {
          "output_type": "execute_result",
          "data": {
            "text/plain": [
              "<tf.Variable 'UnreadVariable' shape=(3, 1) dtype=float32, numpy=\n",
              "array([[4.],\n",
              "       [2.],\n",
              "       [2.]], dtype=float32)>"
            ]
          },
          "metadata": {},
          "execution_count": 14
        }
      ]
    },
    {
      "cell_type": "code",
      "source": [
        "a = tf.ones((2,2))\n",
        "\n",
        "b = tf.square(a)\n",
        "\n",
        "c = tf.sqrt(a)\n",
        "\n",
        "d = b + c\n",
        "\n",
        "e = tf.matmul(a,b)\n",
        "\n",
        "e *= d"
      ],
      "metadata": {
        "id": "1IyUTCMQ57wA"
      },
      "execution_count": 15,
      "outputs": []
    },
    {
      "cell_type": "code",
      "source": [
        "print(e)"
      ],
      "metadata": {
        "colab": {
          "base_uri": "https://localhost:8080/"
        },
        "id": "4ZEX5CSQ6nRs",
        "outputId": "9404549a-9a7e-45e1-e442-5c379e3ddabb"
      },
      "execution_count": 16,
      "outputs": [
        {
          "output_type": "stream",
          "name": "stdout",
          "text": [
            "tf.Tensor(\n",
            "[[4. 4.]\n",
            " [4. 4.]], shape=(2, 2), dtype=float32)\n"
          ]
        }
      ]
    },
    {
      "cell_type": "code",
      "source": [
        "from numpy.lib.function_base import gradient\n",
        "input_var = tf.Variable(initial_value=3.0)\n",
        "\n",
        "with tf.GradientTape() as tape:\n",
        "  result = tf.square(input_var)\n",
        "\n",
        "gradient = tape.gradient(result, input_var)\n",
        "\n",
        "print(gradient)"
      ],
      "metadata": {
        "colab": {
          "base_uri": "https://localhost:8080/"
        },
        "id": "cevHbMPj6_7f",
        "outputId": "b5374200-aa40-48ef-c837-086578aeb73f"
      },
      "execution_count": 17,
      "outputs": [
        {
          "output_type": "stream",
          "name": "stdout",
          "text": [
            "tf.Tensor(6.0, shape=(), dtype=float32)\n"
          ]
        }
      ]
    },
    {
      "cell_type": "code",
      "source": [
        "import numpy as np\n",
        "\n",
        "num_samples_per_class = 1000\n",
        "\n",
        "negative_sample = np.random.multivariate_normal(mean=[0,3],cov=[[1.0,0.5],[0.5,1.0]], size=num_samples_per_class)\n",
        "\n",
        "positive_sample = np.random.multivariate_normal(mean=[3,0], cov=[[1.0,0.5],[0.5,1.0]], size=num_samples_per_class)\n",
        "\n",
        "inputs = np.vstack((negative_sample, positive_sample)).astype(np.float32)\n",
        "\n",
        "targets = np.vstack((np.zeros((num_samples_per_class,1), dtype =\"float32\"),np.ones((num_samples_per_class,1),dtype=\"float32\")))"
      ],
      "metadata": {
        "id": "vs5ip8yrHgJK"
      },
      "execution_count": 18,
      "outputs": []
    },
    {
      "cell_type": "markdown",
      "source": [
        "Plotting data with matplotlib"
      ],
      "metadata": {
        "id": "wj0uddVHKt6c"
      }
    },
    {
      "cell_type": "code",
      "source": [
        "import matplotlib.pyplot as plt\n",
        "\n",
        "plt.scatter(inputs[:,0],inputs[:,1],c=targets[:,0])\n",
        "\n",
        "plt.show()"
      ],
      "metadata": {
        "colab": {
          "base_uri": "https://localhost:8080/",
          "height": 265
        },
        "id": "BqE2A5CmKxvN",
        "outputId": "fcceee8c-3711-4b95-aad5-c284f1823f7f"
      },
      "execution_count": 19,
      "outputs": [
        {
          "output_type": "display_data",
          "data": {
            "text/plain": [
              "<Figure size 432x288 with 1 Axes>"
            ],
            "image/png": "[encoded data removed]"
          },
          "metadata": {
            "needs_background": "light"
          }
        }
      ]
    },
    {
      "cell_type": "markdown",
      "source": [
        "Creating the linear classifier variables"
      ],
      "metadata": {
        "id": "OR6-AbOzMA7D"
      }
    },
    {
      "cell_type": "code",
      "source": [
        "input_dim = 2\n",
        "output_dim = 1\n",
        "\n",
        "W = tf.Variable(initial_value= tf.random.uniform(shape=(input_dim, output_dim)))\n",
        "\n",
        "b = tf.Variable(initial_value=tf.zeros(shape=(output_dim,)))"
      ],
      "metadata": {
        "id": "rpHR0lC6MEOQ"
      },
      "execution_count": 20,
      "outputs": []
    },
    {
      "cell_type": "markdown",
      "source": [
        "Forward pass function"
      ],
      "metadata": {
        "id": "5RN1nj2oM74l"
      }
    },
    {
      "cell_type": "code",
      "source": [
        "def model(inputs):\n",
        "  return tf.matmul(inputs, W) + b\n"
      ],
      "metadata": {
        "id": "xnKHQKbqM95N"
      },
      "execution_count": 21,
      "outputs": []
    },
    {
      "cell_type": "markdown",
      "source": [
        "Mean squared error loss function"
      ],
      "metadata": {
        "id": "JAQt9JoDNWM-"
      }
    },
    {
      "cell_type": "code",
      "source": [
        "def square_loss(targets, predictions):\n",
        "  per_sample_losses = tf.square(targets - predictions)\n",
        "  return tf.reduce_mean(per_sample_losses)"
      ],
      "metadata": {
        "id": "Mm-dDcRNNZs8"
      },
      "execution_count": 22,
      "outputs": []
    },
    {
      "cell_type": "markdown",
      "source": [
        "Training step function"
      ],
      "metadata": {
        "id": "qn2GYLDsN9sa"
      }
    },
    {
      "cell_type": "code",
      "source": [
        "from tensorflow.python.framework.auto_control_deps_utils import get_read_only_resource_input_indices_graph\n",
        "learning_rate = 0.01\n",
        "\n",
        "def training_step(inputs, targets):\n",
        "  with tf.GradientTape() as tape:\n",
        "    predictions = model(inputs)\n",
        "    loss = square_loss(targets, predictions)\n",
        "  grad_loss_wrt_W,grand_loss_wrt_b = tape.gradient(loss, [W, b])\n",
        "  W.assign_sub(grad_loss_wrt_W * learning_rate)\n",
        "  b.assign_sub(grand_loss_wrt_b * learning_rate)\n",
        "  \n",
        "  return loss"
      ],
      "metadata": {
        "id": "S9vGCydwN89A"
      },
      "execution_count": 23,
      "outputs": []
    },
    {
      "cell_type": "markdown",
      "source": [
        "Batch training loop"
      ],
      "metadata": {
        "id": "hs4_T3iITqcc"
      }
    },
    {
      "cell_type": "code",
      "source": [
        "for step in range(200):\n",
        "  loss = training_step(inputs, targets)\n",
        "  print(f\"Loss at step {step}: {loss:.4f}\")"
      ],
      "metadata": {
        "colab": {
          "base_uri": "https://localhost:8080/"
        },
        "id": "vih_BNAbTdh1",
        "outputId": "7be2cf76-8537-4d73-d46d-5bf70da00557"
      },
      "execution_count": 28,
      "outputs": [
        {
          "output_type": "stream",
          "name": "stdout",
          "text": [
            "Loss at step 0: 0.0555\n",
            "Loss at step 1: 0.0552\n",
            "Loss at step 2: 0.0549\n",
            "Loss at step 3: 0.0547\n",
            "Loss at step 4: 0.0544\n",
            "Loss at step 5: 0.0541\n",
            "Loss at step 6: 0.0539\n",
            "Loss at step 7: 0.0536\n",
            "Loss at step 8: 0.0533\n",
            "Loss at step 9: 0.0531\n",
            "Loss at step 10: 0.0528\n",
            "Loss at step 11: 0.0526\n",
            "Loss at step 12: 0.0523\n",
            "Loss at step 13: 0.0521\n",
            "Loss at step 14: 0.0518\n",
            "Loss at step 15: 0.0516\n",
            "Loss at step 16: 0.0514\n",
            "Loss at step 17: 0.0511\n",
            "Loss at step 18: 0.0509\n",
            "Loss at step 19: 0.0507\n",
            "Loss at step 20: 0.0504\n",
            "Loss at step 21: 0.0502\n",
            "Loss at step 22: 0.0500\n",
            "Loss at step 23: 0.0498\n",
            "Loss at step 24: 0.0495\n",
            "Loss at step 25: 0.0493\n",
            "Loss at step 26: 0.0491\n",
            "Loss at step 27: 0.0489\n",
            "Loss at step 28: 0.0487\n",
            "Loss at step 29: 0.0485\n",
            "Loss at step 30: 0.0482\n",
            "Loss at step 31: 0.0480\n",
            "Loss at step 32: 0.0478\n",
            "Loss at step 33: 0.0476\n",
            "Loss at step 34: 0.0474\n",
            "Loss at step 35: 0.0472\n",
            "Loss at step 36: 0.0470\n",
            "Loss at step 37: 0.0468\n",
            "Loss at step 38: 0.0466\n",
            "Loss at step 39: 0.0464\n",
            "Loss at step 40: 0.0462\n",
            "Loss at step 41: 0.0461\n",
            "Loss at step 42: 0.0459\n",
            "Loss at step 43: 0.0457\n",
            "Loss at step 44: 0.0455\n",
            "Loss at step 45: 0.0453\n",
            "Loss at step 46: 0.0451\n",
            "Loss at step 47: 0.0450\n",
            "Loss at step 48: 0.0448\n",
            "Loss at step 49: 0.0446\n",
            "Loss at step 50: 0.0444\n",
            "Loss at step 51: 0.0443\n",
            "Loss at step 52: 0.0441\n",
            "Loss at step 53: 0.0439\n",
            "Loss at step 54: 0.0438\n",
            "Loss at step 55: 0.0436\n",
            "Loss at step 56: 0.0434\n",
            "Loss at step 57: 0.0433\n",
            "Loss at step 58: 0.0431\n",
            "Loss at step 59: 0.0429\n",
            "Loss at step 60: 0.0428\n",
            "Loss at step 61: 0.0426\n",
            "Loss at step 62: 0.0425\n",
            "Loss at step 63: 0.0423\n",
            "Loss at step 64: 0.0422\n",
            "Loss at step 65: 0.0420\n",
            "Loss at step 66: 0.0419\n",
            "Loss at step 67: 0.0417\n",
            "Loss at step 68: 0.0416\n",
            "Loss at step 69: 0.0414\n",
            "Loss at step 70: 0.0413\n",
            "Loss at step 71: 0.0411\n",
            "Loss at step 72: 0.0410\n",
            "Loss at step 73: 0.0408\n",
            "Loss at step 74: 0.0407\n",
            "Loss at step 75: 0.0406\n",
            "Loss at step 76: 0.0404\n",
            "Loss at step 77: 0.0403\n",
            "Loss at step 78: 0.0402\n",
            "Loss at step 79: 0.0400\n",
            "Loss at step 80: 0.0399\n",
            "Loss at step 81: 0.0398\n",
            "Loss at step 82: 0.0396\n",
            "Loss at step 83: 0.0395\n",
            "Loss at step 84: 0.0394\n",
            "Loss at step 85: 0.0393\n",
            "Loss at step 86: 0.0391\n",
            "Loss at step 87: 0.0390\n",
            "Loss at step 88: 0.0389\n",
            "Loss at step 89: 0.0388\n",
            "Loss at step 90: 0.0387\n",
            "Loss at step 91: 0.0385\n",
            "Loss at step 92: 0.0384\n",
            "Loss at step 93: 0.0383\n",
            "Loss at step 94: 0.0382\n",
            "Loss at step 95: 0.0381\n",
            "Loss at step 96: 0.0380\n",
            "Loss at step 97: 0.0379\n",
            "Loss at step 98: 0.0377\n",
            "Loss at step 99: 0.0376\n",
            "Loss at step 100: 0.0375\n",
            "Loss at step 101: 0.0374\n",
            "Loss at step 102: 0.0373\n",
            "Loss at step 103: 0.0372\n",
            "Loss at step 104: 0.0371\n",
            "Loss at step 105: 0.0370\n",
            "Loss at step 106: 0.0369\n",
            "Loss at step 107: 0.0368\n",
            "Loss at step 108: 0.0367\n",
            "Loss at step 109: 0.0366\n",
            "Loss at step 110: 0.0365\n",
            "Loss at step 111: 0.0364\n",
            "Loss at step 112: 0.0363\n",
            "Loss at step 113: 0.0362\n",
            "Loss at step 114: 0.0361\n",
            "Loss at step 115: 0.0360\n",
            "Loss at step 116: 0.0359\n",
            "Loss at step 117: 0.0358\n",
            "Loss at step 118: 0.0357\n",
            "Loss at step 119: 0.0356\n",
            "Loss at step 120: 0.0355\n",
            "Loss at step 121: 0.0355\n",
            "Loss at step 122: 0.0354\n",
            "Loss at step 123: 0.0353\n",
            "Loss at step 124: 0.0352\n",
            "Loss at step 125: 0.0351\n",
            "Loss at step 126: 0.0350\n",
            "Loss at step 127: 0.0349\n",
            "Loss at step 128: 0.0349\n",
            "Loss at step 129: 0.0348\n",
            "Loss at step 130: 0.0347\n",
            "Loss at step 131: 0.0346\n",
            "Loss at step 132: 0.0345\n",
            "Loss at step 133: 0.0345\n",
            "Loss at step 134: 0.0344\n",
            "Loss at step 135: 0.0343\n",
            "Loss at step 136: 0.0342\n",
            "Loss at step 137: 0.0341\n",
            "Loss at step 138: 0.0341\n",
            "Loss at step 139: 0.0340\n",
            "Loss at step 140: 0.0339\n",
            "Loss at step 141: 0.0338\n",
            "Loss at step 142: 0.0338\n",
            "Loss at step 143: 0.0337\n",
            "Loss at step 144: 0.0336\n",
            "Loss at step 145: 0.0336\n",
            "Loss at step 146: 0.0335\n",
            "Loss at step 147: 0.0334\n",
            "Loss at step 148: 0.0333\n",
            "Loss at step 149: 0.0333\n",
            "Loss at step 150: 0.0332\n",
            "Loss at step 151: 0.0331\n",
            "Loss at step 152: 0.0331\n",
            "Loss at step 153: 0.0330\n",
            "Loss at step 154: 0.0329\n",
            "Loss at step 155: 0.0329\n",
            "Loss at step 156: 0.0328\n",
            "Loss at step 157: 0.0327\n",
            "Loss at step 158: 0.0327\n",
            "Loss at step 159: 0.0326\n",
            "Loss at step 160: 0.0326\n",
            "Loss at step 161: 0.0325\n",
            "Loss at step 162: 0.0324\n",
            "Loss at step 163: 0.0324\n",
            "Loss at step 164: 0.0323\n",
            "Loss at step 165: 0.0323\n",
            "Loss at step 166: 0.0322\n",
            "Loss at step 167: 0.0321\n",
            "Loss at step 168: 0.0321\n",
            "Loss at step 169: 0.0320\n",
            "Loss at step 170: 0.0320\n",
            "Loss at step 171: 0.0319\n",
            "Loss at step 172: 0.0319\n",
            "Loss at step 173: 0.0318\n",
            "Loss at step 174: 0.0318\n",
            "Loss at step 175: 0.0317\n",
            "Loss at step 176: 0.0316\n",
            "Loss at step 177: 0.0316\n",
            "Loss at step 178: 0.0315\n",
            "Loss at step 179: 0.0315\n",
            "Loss at step 180: 0.0314\n",
            "Loss at step 181: 0.0314\n",
            "Loss at step 182: 0.0313\n",
            "Loss at step 183: 0.0313\n",
            "Loss at step 184: 0.0312\n",
            "Loss at step 185: 0.0312\n",
            "Loss at step 186: 0.0311\n",
            "Loss at step 187: 0.0311\n",
            "Loss at step 188: 0.0310\n",
            "Loss at step 189: 0.0310\n",
            "Loss at step 190: 0.0309\n",
            "Loss at step 191: 0.0309\n",
            "Loss at step 192: 0.0309\n",
            "Loss at step 193: 0.0308\n",
            "Loss at step 194: 0.0308\n",
            "Loss at step 195: 0.0307\n",
            "Loss at step 196: 0.0307\n",
            "Loss at step 197: 0.0306\n",
            "Loss at step 198: 0.0306\n",
            "Loss at step 199: 0.0305\n"
          ]
        }
      ]
    },
    {
      "cell_type": "markdown",
      "source": [
        "Plotting how the linear model classifies our input"
      ],
      "metadata": {
        "id": "pBj7aGWMUOpX"
      }
    },
    {
      "cell_type": "code",
      "source": [
        "predictions = model(inputs)\n",
        "\n",
        "plt.scatter(inputs[:,0],inputs[:,1], c=predictions[:,0]>0.5)\n",
        "\n",
        "plt.show()"
      ],
      "metadata": {
        "colab": {
          "base_uri": "https://localhost:8080/",
          "height": 265
        },
        "id": "h8ibly4IUaTe",
        "outputId": "02151a16-1f8d-43f1-cb6b-721eec2da21b"
      },
      "execution_count": 29,
      "outputs": [
        {
          "output_type": "display_data",
          "data": {
            "text/plain": [
              "<Figure size 432x288 with 1 Axes>"
            ],
            "image/png": "[encoded data removed]"
          },
          "metadata": {
            "needs_background": "light"
          }
        }
      ]
    },
    {
      "cell_type": "markdown",
      "source": [
        "Plotting the line that separates the two classes"
      ],
      "metadata": {
        "id": "xuTsriKnVrIA"
      }
    },
    {
      "cell_type": "code",
      "source": [
        "x = np.linspace(-1,4,100)\n",
        "\n",
        "y = -W[0]/W[1] * x + (0.5 - b) / W[1]\n",
        "\n",
        "plt.plot(x, y, \"-r\")\n",
        "\n",
        "plt.scatter(inputs[:,0],inputs[:,1], c=predictions[:,0]>0.5)\n",
        "\n",
        "plt.show()\n"
      ],
      "metadata": {
        "colab": {
          "base_uri": "https://localhost:8080/",
          "height": 265
        },
        "id": "uaPkbeisVusa",
        "outputId": "85fada34-23a3-4ba0-a849-1756975ca3ba"
      },
      "execution_count": 30,
      "outputs": [
        {
          "output_type": "display_data",
          "data": {
            "text/plain": [
              "<Figure size 432x288 with 1 Axes>"
            ],
            "image/png": "[encoded data removed]"
          },
          "metadata": {
            "needs_background": "light"
          }
        }
      ]
    }
  ]
}