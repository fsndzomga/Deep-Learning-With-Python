{
  "nbformat": 4,
  "nbformat_minor": 0,
  "metadata": {
    "colab": {
      "provenance": [],
      "authorship_tag": "ABX9TyPVIjOQhwbBe+H7/EVkl/YM",
      "include_colab_link": true
    },
    "kernelspec": {
      "name": "python3",
      "display_name": "Python 3"
    },
    "language_info": {
      "name": "python"
    },
    "accelerator": "GPU",
    "gpuClass": "standard"
  },
  "cells": [
    {
      "cell_type": "markdown",
      "metadata": {
        "id": "view-in-github",
        "colab_type": "text"
      },
      "source": [
        "<a href=\"https://colab.research.google.com/github/fsndzomga/Deep-Learning-With-Python/blob/main/Keras_and_Tensorflow.ipynb\" target=\"_parent\"><img src=\"https://colab.research.google.com/assets/colab-badge.svg\" alt=\"Open In Colab\"/></a>"
      ]
    },
    {
      "cell_type": "code",
      "execution_count": null,
      "metadata": {
        "id": "1mKDlupx_H1d",
        "colab": {
          "base_uri": "https://localhost:8080/"
        },
        "outputId": "5452f0e3-7f83-491f-fa5e-934fe4d478a6"
      },
      "outputs": [
        {
          "output_type": "stream",
          "name": "stdout",
          "text": [
            "tf.Tensor(\n",
            "[[1.]\n",
            " [1.]], shape=(2, 1), dtype=float32)\n"
          ]
        }
      ],
      "source": [
        "import tensorflow as tf\n",
        "\n",
        "x = tf.ones(shape= (2,1))\n",
        "\n",
        "print(x)"
      ]
    },
    {
      "cell_type": "code",
      "source": [
        "x = tf.zeros(shape=(2,1))\n",
        "\n",
        "print(x)"
      ],
      "metadata": {
        "colab": {
          "base_uri": "https://localhost:8080/"
        },
        "id": "2mHt-b-7CQBH",
        "outputId": "5a48e8af-59d7-4478-919e-d964fd17f742"
      },
      "execution_count": null,
      "outputs": [
        {
          "output_type": "stream",
          "name": "stdout",
          "text": [
            "tf.Tensor(\n",
            "[[0.]\n",
            " [0.]], shape=(2, 1), dtype=float32)\n"
          ]
        }
      ]
    },
    {
      "cell_type": "markdown",
      "source": [
        "Random tensors"
      ],
      "metadata": {
        "id": "p_iDogDvCnJV"
      }
    },
    {
      "cell_type": "code",
      "source": [
        "x = tf.random.normal(shape=(3,1), mean=0.,stddev=1.)\n",
        "print(x)"
      ],
      "metadata": {
        "colab": {
          "base_uri": "https://localhost:8080/"
        },
        "id": "hsznWZt0Co74",
        "outputId": "d4d874c9-9598-4855-9a38-66f6d96247ee"
      },
      "execution_count": null,
      "outputs": [
        {
          "output_type": "stream",
          "name": "stdout",
          "text": [
            "tf.Tensor(\n",
            "[[-0.74668664]\n",
            " [-2.2556796 ]\n",
            " [ 1.3720987 ]], shape=(3, 1), dtype=float32)\n"
          ]
        }
      ]
    },
    {
      "cell_type": "code",
      "source": [
        "x = tf.random.uniform(shape=(3,1), minval=0., maxval=1.)\n",
        "print(x)"
      ],
      "metadata": {
        "colab": {
          "base_uri": "https://localhost:8080/"
        },
        "id": "1MMp5fQxC9bp",
        "outputId": "0e41abd3-d3d3-467a-e9d8-f0f14df5198f"
      },
      "execution_count": null,
      "outputs": [
        {
          "output_type": "stream",
          "name": "stdout",
          "text": [
            "tf.Tensor(\n",
            "[[0.5280297]\n",
            " [0.8989512]\n",
            " [0.8704363]], shape=(3, 1), dtype=float32)\n"
          ]
        }
      ]
    },
    {
      "cell_type": "code",
      "source": [
        "v = tf.Variable(initial_value=tf.random.normal(shape=(3,1)))\n",
        "print(v)"
      ],
      "metadata": {
        "colab": {
          "base_uri": "https://localhost:8080/"
        },
        "id": "wLjMwBm_Dpmk",
        "outputId": "9d3e9a2c-d184-4d55-a78d-2aba14c8de08"
      },
      "execution_count": null,
      "outputs": [
        {
          "output_type": "stream",
          "name": "stdout",
          "text": [
            "<tf.Variable 'Variable:0' shape=(3, 1) dtype=float32, numpy=\n",
            "array([[ 1.8243679 ],\n",
            "       [ 0.55263275],\n",
            "       [-1.474656  ]], dtype=float32)>\n"
          ]
        }
      ]
    },
    {
      "cell_type": "code",
      "source": [
        "v.assign(tf.ones((3,1)))"
      ],
      "metadata": {
        "colab": {
          "base_uri": "https://localhost:8080/"
        },
        "id": "5pP16jH4EeqM",
        "outputId": "d21145ab-ca06-443c-8e8f-5521c7a1f894"
      },
      "execution_count": null,
      "outputs": [
        {
          "output_type": "execute_result",
          "data": {
            "text/plain": [
              "<tf.Variable 'UnreadVariable' shape=(3, 1) dtype=float32, numpy=\n",
              "array([[1.],\n",
              "       [1.],\n",
              "       [1.]], dtype=float32)>"
            ]
          },
          "metadata": {},
          "execution_count": 6
        }
      ]
    },
    {
      "cell_type": "code",
      "source": [
        "v[0,0].assign(3.)"
      ],
      "metadata": {
        "colab": {
          "base_uri": "https://localhost:8080/"
        },
        "id": "lYXKWDTwVd9u",
        "outputId": "33886dc5-446e-47cf-b550-fbbca64f38a0"
      },
      "execution_count": null,
      "outputs": [
        {
          "output_type": "execute_result",
          "data": {
            "text/plain": [
              "<tf.Variable 'UnreadVariable' shape=(3, 1) dtype=float32, numpy=\n",
              "array([[3.],\n",
              "       [1.],\n",
              "       [1.]], dtype=float32)>"
            ]
          },
          "metadata": {},
          "execution_count": 7
        }
      ]
    },
    {
      "cell_type": "code",
      "source": [
        "v.assign_add(tf.ones((3,1)))"
      ],
      "metadata": {
        "colab": {
          "base_uri": "https://localhost:8080/"
        },
        "id": "0ESfannc5qym",
        "outputId": "903da155-e1f3-4cf7-cbce-f662f0db99f7"
      },
      "execution_count": null,
      "outputs": [
        {
          "output_type": "execute_result",
          "data": {
            "text/plain": [
              "<tf.Variable 'UnreadVariable' shape=(3, 1) dtype=float32, numpy=\n",
              "array([[4.],\n",
              "       [2.],\n",
              "       [2.]], dtype=float32)>"
            ]
          },
          "metadata": {},
          "execution_count": 8
        }
      ]
    },
    {
      "cell_type": "code",
      "source": [
        "a = tf.ones((2,2))\n",
        "\n",
        "b = tf.square(a)\n",
        "\n",
        "c = tf.sqrt(a)\n",
        "\n",
        "d = b + c\n",
        "\n",
        "e = tf.matmul(a,b)\n",
        "\n",
        "e *= d"
      ],
      "metadata": {
        "id": "1IyUTCMQ57wA"
      },
      "execution_count": null,
      "outputs": []
    },
    {
      "cell_type": "code",
      "source": [
        "print(e)"
      ],
      "metadata": {
        "colab": {
          "base_uri": "https://localhost:8080/"
        },
        "id": "4ZEX5CSQ6nRs",
        "outputId": "d1cd5f00-9941-40ac-a0e9-386063f9241c"
      },
      "execution_count": null,
      "outputs": [
        {
          "output_type": "stream",
          "name": "stdout",
          "text": [
            "tf.Tensor(\n",
            "[[4. 4.]\n",
            " [4. 4.]], shape=(2, 2), dtype=float32)\n"
          ]
        }
      ]
    },
    {
      "cell_type": "code",
      "source": [
        "from numpy.lib.function_base import gradient\n",
        "input_var = tf.Variable(initial_value=3.0)\n",
        "\n",
        "with tf.GradientTape() as tape:\n",
        "  result = tf.square(input_var)\n",
        "\n",
        "gradient = tape.gradient(result, input_var)\n",
        "\n",
        "print(gradient)"
      ],
      "metadata": {
        "colab": {
          "base_uri": "https://localhost:8080/"
        },
        "id": "cevHbMPj6_7f",
        "outputId": "f6de5286-f888-4e98-a44b-1ef61c227c43"
      },
      "execution_count": null,
      "outputs": [
        {
          "output_type": "stream",
          "name": "stdout",
          "text": [
            "tf.Tensor(6.0, shape=(), dtype=float32)\n"
          ]
        }
      ]
    },
    {
      "cell_type": "code",
      "source": [
        "import numpy as np\n",
        "\n",
        "num_samples_per_class = 1000\n",
        "\n",
        "negative_sample = np.random.multivariate_normal(mean=[0,3],cov=[[1.0,0.5],[0.5,1.0]], size=num_samples_per_class)\n",
        "\n",
        "positive_sample = np.random.multivariate_normal(mean=[3,0], cov=[[1.0,0.5],[0.5,1.0]], size=num_samples_per_class)\n",
        "\n",
        "inputs = np.vstack((negative_sample, positive_sample)).astype(np.float32)\n",
        "\n",
        "targets = np.vstack((np.zeros((num_samples_per_class,1), dtype =\"float32\"),np.ones((num_samples_per_class,1),dtype=\"float32\")))"
      ],
      "metadata": {
        "id": "vs5ip8yrHgJK"
      },
      "execution_count": null,
      "outputs": []
    },
    {
      "cell_type": "markdown",
      "source": [
        "Plotting data with matplotlib"
      ],
      "metadata": {
        "id": "wj0uddVHKt6c"
      }
    },
    {
      "cell_type": "code",
      "source": [
        "import matplotlib.pyplot as plt\n",
        "\n",
        "plt.scatter(inputs[:,0],inputs[:,1],c=targets[:,0])\n",
        "\n",
        "plt.show()"
      ],
      "metadata": {
        "colab": {
          "base_uri": "https://localhost:8080/",
          "height": 265
        },
        "id": "BqE2A5CmKxvN",
        "outputId": "6a0b6a45-dc2d-4835-b2ba-d5600ab0a9c7"
      },
      "execution_count": null,
      "outputs": [
        {
          "output_type": "display_data",
          "data": {
            "text/plain": [
              "<Figure size 432x288 with 1 Axes>"
            ],
            "image/png": "[encoded data removed]"
          },
          "metadata": {
            "needs_background": "light"
          }
        }
      ]
    },
    {
      "cell_type": "markdown",
      "source": [
        "Creating the linear classifier variables"
      ],
      "metadata": {
        "id": "OR6-AbOzMA7D"
      }
    },
    {
      "cell_type": "code",
      "source": [
        "input_dim = 2\n",
        "output_dim = 1\n",
        "\n",
        "W = tf.Variable(initial_value= tf.random.uniform(shape=(input_dim, output_dim)))\n",
        "\n",
        "b = tf.Variable(initial_value=tf.zeros(shape=(output_dim,)))"
      ],
      "metadata": {
        "id": "rpHR0lC6MEOQ"
      },
      "execution_count": null,
      "outputs": []
    },
    {
      "cell_type": "markdown",
      "source": [
        "Forward pass function"
      ],
      "metadata": {
        "id": "5RN1nj2oM74l"
      }
    },
    {
      "cell_type": "code",
      "source": [
        "def model(inputs):\n",
        "  return tf.matmul(inputs, W) + b\n"
      ],
      "metadata": {
        "id": "xnKHQKbqM95N"
      },
      "execution_count": null,
      "outputs": []
    },
    {
      "cell_type": "markdown",
      "source": [
        "Mean squared error loss function"
      ],
      "metadata": {
        "id": "JAQt9JoDNWM-"
      }
    },
    {
      "cell_type": "code",
      "source": [
        "def square_loss(targets, predictions):\n",
        "  per_sample_losses = tf.square(targets - predictions)\n",
        "  return tf.reduce_mean(per_sample_losses)"
      ],
      "metadata": {
        "id": "Mm-dDcRNNZs8"
      },
      "execution_count": null,
      "outputs": []
    },
    {
      "cell_type": "markdown",
      "source": [
        "Training step function"
      ],
      "metadata": {
        "id": "qn2GYLDsN9sa"
      }
    },
    {
      "cell_type": "code",
      "source": [
        "from tensorflow.python.framework.auto_control_deps_utils import get_read_only_resource_input_indices_graph\n",
        "learning_rate = 0.01\n",
        "\n",
        "def training_step(inputs, targets):\n",
        "  with tf.GradientTape() as tape:\n",
        "    predictions = model(inputs)\n",
        "    loss = square_loss(targets, predictions)\n",
        "  grad_loss_wrt_W,grand_loss_wrt_b = tape.gradient(loss, [W, b])\n",
        "  W.assign_sub(grad_loss_wrt_W * learning_rate)\n",
        "  b.assign_sub(grand_loss_wrt_b * learning_rate)\n",
        "  \n",
        "  return loss"
      ],
      "metadata": {
        "id": "S9vGCydwN89A"
      },
      "execution_count": null,
      "outputs": []
    },
    {
      "cell_type": "markdown",
      "source": [
        "Batch training loop"
      ],
      "metadata": {
        "id": "hs4_T3iITqcc"
      }
    },
    {
      "cell_type": "code",
      "source": [
        "for step in range(200):\n",
        "  loss = training_step(inputs, targets)\n",
        "  print(f\"Loss at step {step}: {loss:.4f}\")"
      ],
      "metadata": {
        "colab": {
          "base_uri": "https://localhost:8080/"
        },
        "id": "vih_BNAbTdh1",
        "outputId": "b016723c-44bd-479d-a666-63a0bb5b1988"
      },
      "execution_count": null,
      "outputs": [
        {
          "output_type": "stream",
          "name": "stdout",
          "text": [
            "Loss at step 0: 3.5991\n",
            "Loss at step 1: 2.7307\n",
            "Loss at step 2: 2.0817\n",
            "Loss at step 3: 1.5964\n",
            "Loss at step 4: 1.2334\n",
            "Loss at step 5: 0.9617\n",
            "Loss at step 6: 0.7581\n",
            "Loss at step 7: 0.6055\n",
            "Loss at step 8: 0.4910\n",
            "Loss at step 9: 0.4049\n",
            "Loss at step 10: 0.3401\n",
            "Loss at step 11: 0.2912\n",
            "Loss at step 12: 0.2543\n",
            "Loss at step 13: 0.2263\n",
            "Loss at step 14: 0.2050\n",
            "Loss at step 15: 0.1888\n",
            "Loss at step 16: 0.1763\n",
            "Loss at step 17: 0.1667\n",
            "Loss at step 18: 0.1591\n",
            "Loss at step 19: 0.1532\n",
            "Loss at step 20: 0.1485\n",
            "Loss at step 21: 0.1447\n",
            "Loss at step 22: 0.1416\n",
            "Loss at step 23: 0.1391\n",
            "Loss at step 24: 0.1369\n",
            "Loss at step 25: 0.1350\n",
            "Loss at step 26: 0.1334\n",
            "Loss at step 27: 0.1319\n",
            "Loss at step 28: 0.1306\n",
            "Loss at step 29: 0.1294\n",
            "Loss at step 30: 0.1282\n",
            "Loss at step 31: 0.1271\n",
            "Loss at step 32: 0.1261\n",
            "Loss at step 33: 0.1251\n",
            "Loss at step 34: 0.1242\n",
            "Loss at step 35: 0.1232\n",
            "Loss at step 36: 0.1223\n",
            "Loss at step 37: 0.1215\n",
            "Loss at step 38: 0.1206\n",
            "Loss at step 39: 0.1197\n",
            "Loss at step 40: 0.1189\n",
            "Loss at step 41: 0.1181\n",
            "Loss at step 42: 0.1172\n",
            "Loss at step 43: 0.1164\n",
            "Loss at step 44: 0.1156\n",
            "Loss at step 45: 0.1148\n",
            "Loss at step 46: 0.1141\n",
            "Loss at step 47: 0.1133\n",
            "Loss at step 48: 0.1125\n",
            "Loss at step 49: 0.1118\n",
            "Loss at step 50: 0.1110\n",
            "Loss at step 51: 0.1102\n",
            "Loss at step 52: 0.1095\n",
            "Loss at step 53: 0.1088\n",
            "Loss at step 54: 0.1080\n",
            "Loss at step 55: 0.1073\n",
            "Loss at step 56: 0.1066\n",
            "Loss at step 57: 0.1059\n",
            "Loss at step 58: 0.1052\n",
            "Loss at step 59: 0.1045\n",
            "Loss at step 60: 0.1038\n",
            "Loss at step 61: 0.1031\n",
            "Loss at step 62: 0.1025\n",
            "Loss at step 63: 0.1018\n",
            "Loss at step 64: 0.1011\n",
            "Loss at step 65: 0.1005\n",
            "Loss at step 66: 0.0998\n",
            "Loss at step 67: 0.0992\n",
            "Loss at step 68: 0.0985\n",
            "Loss at step 69: 0.0979\n",
            "Loss at step 70: 0.0972\n",
            "Loss at step 71: 0.0966\n",
            "Loss at step 72: 0.0960\n",
            "Loss at step 73: 0.0954\n",
            "Loss at step 74: 0.0948\n",
            "Loss at step 75: 0.0942\n",
            "Loss at step 76: 0.0936\n",
            "Loss at step 77: 0.0930\n",
            "Loss at step 78: 0.0924\n",
            "Loss at step 79: 0.0918\n",
            "Loss at step 80: 0.0912\n",
            "Loss at step 81: 0.0907\n",
            "Loss at step 82: 0.0901\n",
            "Loss at step 83: 0.0895\n",
            "Loss at step 84: 0.0890\n",
            "Loss at step 85: 0.0884\n",
            "Loss at step 86: 0.0879\n",
            "Loss at step 87: 0.0873\n",
            "Loss at step 88: 0.0868\n",
            "Loss at step 89: 0.0863\n",
            "Loss at step 90: 0.0857\n",
            "Loss at step 91: 0.0852\n",
            "Loss at step 92: 0.0847\n",
            "Loss at step 93: 0.0842\n",
            "Loss at step 94: 0.0837\n",
            "Loss at step 95: 0.0832\n",
            "Loss at step 96: 0.0827\n",
            "Loss at step 97: 0.0822\n",
            "Loss at step 98: 0.0817\n",
            "Loss at step 99: 0.0812\n",
            "Loss at step 100: 0.0807\n",
            "Loss at step 101: 0.0802\n",
            "Loss at step 102: 0.0797\n",
            "Loss at step 103: 0.0793\n",
            "Loss at step 104: 0.0788\n",
            "Loss at step 105: 0.0783\n",
            "Loss at step 106: 0.0779\n",
            "Loss at step 107: 0.0774\n",
            "Loss at step 108: 0.0770\n",
            "Loss at step 109: 0.0765\n",
            "Loss at step 110: 0.0761\n",
            "Loss at step 111: 0.0756\n",
            "Loss at step 112: 0.0752\n",
            "Loss at step 113: 0.0748\n",
            "Loss at step 114: 0.0744\n",
            "Loss at step 115: 0.0739\n",
            "Loss at step 116: 0.0735\n",
            "Loss at step 117: 0.0731\n",
            "Loss at step 118: 0.0727\n",
            "Loss at step 119: 0.0723\n",
            "Loss at step 120: 0.0719\n",
            "Loss at step 121: 0.0715\n",
            "Loss at step 122: 0.0711\n",
            "Loss at step 123: 0.0707\n",
            "Loss at step 124: 0.0703\n",
            "Loss at step 125: 0.0699\n",
            "Loss at step 126: 0.0695\n",
            "Loss at step 127: 0.0691\n",
            "Loss at step 128: 0.0687\n",
            "Loss at step 129: 0.0684\n",
            "Loss at step 130: 0.0680\n",
            "Loss at step 131: 0.0676\n",
            "Loss at step 132: 0.0673\n",
            "Loss at step 133: 0.0669\n",
            "Loss at step 134: 0.0665\n",
            "Loss at step 135: 0.0662\n",
            "Loss at step 136: 0.0658\n",
            "Loss at step 137: 0.0655\n",
            "Loss at step 138: 0.0651\n",
            "Loss at step 139: 0.0648\n",
            "Loss at step 140: 0.0645\n",
            "Loss at step 141: 0.0641\n",
            "Loss at step 142: 0.0638\n",
            "Loss at step 143: 0.0635\n",
            "Loss at step 144: 0.0631\n",
            "Loss at step 145: 0.0628\n",
            "Loss at step 146: 0.0625\n",
            "Loss at step 147: 0.0622\n",
            "Loss at step 148: 0.0618\n",
            "Loss at step 149: 0.0615\n",
            "Loss at step 150: 0.0612\n",
            "Loss at step 151: 0.0609\n",
            "Loss at step 152: 0.0606\n",
            "Loss at step 153: 0.0603\n",
            "Loss at step 154: 0.0600\n",
            "Loss at step 155: 0.0597\n",
            "Loss at step 156: 0.0594\n",
            "Loss at step 157: 0.0591\n",
            "Loss at step 158: 0.0588\n",
            "Loss at step 159: 0.0585\n",
            "Loss at step 160: 0.0583\n",
            "Loss at step 161: 0.0580\n",
            "Loss at step 162: 0.0577\n",
            "Loss at step 163: 0.0574\n",
            "Loss at step 164: 0.0571\n",
            "Loss at step 165: 0.0569\n",
            "Loss at step 166: 0.0566\n",
            "Loss at step 167: 0.0563\n",
            "Loss at step 168: 0.0561\n",
            "Loss at step 169: 0.0558\n",
            "Loss at step 170: 0.0555\n",
            "Loss at step 171: 0.0553\n",
            "Loss at step 172: 0.0550\n",
            "Loss at step 173: 0.0548\n",
            "Loss at step 174: 0.0545\n",
            "Loss at step 175: 0.0543\n",
            "Loss at step 176: 0.0540\n",
            "Loss at step 177: 0.0538\n",
            "Loss at step 178: 0.0535\n",
            "Loss at step 179: 0.0533\n",
            "Loss at step 180: 0.0531\n",
            "Loss at step 181: 0.0528\n",
            "Loss at step 182: 0.0526\n",
            "Loss at step 183: 0.0524\n",
            "Loss at step 184: 0.0521\n",
            "Loss at step 185: 0.0519\n",
            "Loss at step 186: 0.0517\n",
            "Loss at step 187: 0.0514\n",
            "Loss at step 188: 0.0512\n",
            "Loss at step 189: 0.0510\n",
            "Loss at step 190: 0.0508\n",
            "Loss at step 191: 0.0506\n",
            "Loss at step 192: 0.0504\n",
            "Loss at step 193: 0.0501\n",
            "Loss at step 194: 0.0499\n",
            "Loss at step 195: 0.0497\n",
            "Loss at step 196: 0.0495\n",
            "Loss at step 197: 0.0493\n",
            "Loss at step 198: 0.0491\n",
            "Loss at step 199: 0.0489\n"
          ]
        }
      ]
    },
    {
      "cell_type": "markdown",
      "source": [
        "Plotting how the linear model classifies our input"
      ],
      "metadata": {
        "id": "pBj7aGWMUOpX"
      }
    },
    {
      "cell_type": "code",
      "source": [
        "predictions = model(inputs)\n",
        "\n",
        "plt.scatter(inputs[:,0],inputs[:,1], c=predictions[:,0]>0.5)\n",
        "\n",
        "plt.show()"
      ],
      "metadata": {
        "colab": {
          "base_uri": "https://localhost:8080/",
          "height": 265
        },
        "id": "h8ibly4IUaTe",
        "outputId": "325a19b4-a7e4-4bae-f5d1-f0904e3ed6a7"
      },
      "execution_count": null,
      "outputs": [
        {
          "output_type": "display_data",
          "data": {
            "text/plain": [
              "<Figure size 432x288 with 1 Axes>"
            ],
            "image/png": "[encoded data removed]"
          },
          "metadata": {
            "needs_background": "light"
          }
        }
      ]
    },
    {
      "cell_type": "markdown",
      "source": [
        "Plotting the line that separates the two classes"
      ],
      "metadata": {
        "id": "xuTsriKnVrIA"
      }
    },
    {
      "cell_type": "code",
      "source": [
        "x = np.linspace(-1,4,100)\n",
        "\n",
        "y = -W[0]/W[1] * x + (0.5 - b) / W[1]\n",
        "\n",
        "plt.plot(x, y, \"-r\")\n",
        "\n",
        "plt.scatter(inputs[:,0],inputs[:,1], c=predictions[:,0]>0.5)\n",
        "\n",
        "plt.show()\n"
      ],
      "metadata": {
        "colab": {
          "base_uri": "https://localhost:8080/",
          "height": 265
        },
        "id": "uaPkbeisVusa",
        "outputId": "d02d79d8-34df-44eb-ebcb-10c03dec4a5e"
      },
      "execution_count": null,
      "outputs": [
        {
          "output_type": "display_data",
          "data": {
            "text/plain": [
              "<Figure size 432x288 with 1 Axes>"
            ],
            "image/png": "[encoded data removed]"
          },
          "metadata": {
            "needs_background": "light"
          }
        }
      ]
    },
    {
      "cell_type": "markdown",
      "source": [
        "Anatomy of a neural network: Understanding core Keras APIs\n",
        "\n",
        "The fundamental data structure in neural networks is the layer."
      ],
      "metadata": {
        "id": "H4YYx8ul0kt3"
      }
    },
    {
      "cell_type": "code",
      "source": [
        "from tensorflow import keras\n",
        "\n",
        "class SimpleDense(keras.layers.Layer):\n",
        "  def __init__(self, units, activation=None):\n",
        "    super().__init__()\n",
        "    self.units = units\n",
        "    self.activation = activation\n",
        "  \n",
        "  def build(self, input_shape):\n",
        "    input_dim = input_shape[-1]\n",
        "    self.W = self.add_weight(shape=(input_dim, self.units), initializer=\"random_normal\")\n",
        "    self.b = self.add_weight(shape=(self.units,), initializer = \"zeros\")\n",
        "  \n",
        "  def call(self, inputs):\n",
        "    y = tf.matmul(inputs, self.W) + self.b\n",
        "    if self.activation is not None:\n",
        "      y = self.activation(y)\n",
        "    return y"
      ],
      "metadata": {
        "id": "YlYsmSMB1nEa"
      },
      "execution_count": null,
      "outputs": []
    },
    {
      "cell_type": "code",
      "source": [
        "my_dense = SimpleDense(units = 32, activation = tf.nn.relu)\n",
        "\n",
        "input_tensor = tf.ones(shape=(2, 784))\n",
        "\n",
        "output_tensor = my_dense(input_tensor)\n",
        "\n",
        "print(output_tensor.shape)"
      ],
      "metadata": {
        "colab": {
          "base_uri": "https://localhost:8080/"
        },
        "id": "DgHdzLpwC-Wg",
        "outputId": "641fd08e-8102-4452-ac52-fa26d9f765f7"
      },
      "execution_count": null,
      "outputs": [
        {
          "output_type": "stream",
          "name": "stdout",
          "text": [
            "(2, 32)\n"
          ]
        }
      ]
    },
    {
      "cell_type": "code",
      "source": [
        "import numpy as np\n",
        "\n",
        "a = [5, 5, 3, 4, 5, 2, 5, 5, 2, 5, 3]\n"
      ],
      "metadata": {
        "id": "RZ34gOqSZwwd"
      },
      "execution_count": 1,
      "outputs": []
    },
    {
      "cell_type": "code",
      "source": [
        "np.median(a)"
      ],
      "metadata": {
        "colab": {
          "base_uri": "https://localhost:8080/"
        },
        "id": "eBuGSkYkaDgs",
        "outputId": "b1b4d6fa-8821-4c03-d989-c73f83792f5c"
      },
      "execution_count": 2,
      "outputs": [
        {
          "output_type": "execute_result",
          "data": {
            "text/plain": [
              "5.0"
            ]
          },
          "metadata": {},
          "execution_count": 2
        }
      ]
    }
  ]
}